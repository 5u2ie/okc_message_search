{
 "cells": [
  {
   "cell_type": "markdown",
   "metadata": {},
   "source": [
    "#### Intro"
   ]
  },
  {
   "cell_type": "markdown",
   "metadata": {},
   "source": [
    "This notebook:\n",
    "- parses a dump of OKC messages\n",
    "- compares the vocabularies and word distributions of incoming and outgoing messages\n",
    "- offers basic search based on tf-idf (e.g. if you search for \"entropy\" it returns the most relevant messages where that word appears to be important)\n",
    "\n",
    "Getting started:\n",
    "- Get your own message dump in just 5 minutes using: https://github.com/lehrblogger/OkCupid-Message-Downloader)\n",
    "\n",
    "Coming up:\n",
    "- correlating match percentage and thread length\n",
    "- analysing features of entire threads with a person"
   ]
  },
  {
   "cell_type": "code",
   "execution_count": 153,
   "metadata": {
    "collapsed": false
   },
   "outputs": [],
   "source": [
    "%matplotlib inline\n",
    "import matplotlib\n",
    "import matplotlib.pyplot as plt\n",
    "import numpy as np\n",
    "import pandas as pd\n",
    "import nltk\n",
    "from nltk.probability import FreqDist\n",
    "from nltk.corpus import stopwords\n",
    "from nltk.stem.porter import PorterStemmer\n",
    "import string\n",
    "import os\n",
    "import operator\n",
    "import math"
   ]
  },
  {
   "cell_type": "markdown",
   "metadata": {},
   "source": [
    "#### Preprocessing"
   ]
  },
  {
   "cell_type": "code",
   "execution_count": 2,
   "metadata": {
    "collapsed": false
   },
   "outputs": [],
   "source": [
    "d = open(\"message_output_file.txt\").readlines()\n",
    "d = [e[:-1] for e in d if e != '\\n']"
   ]
  },
  {
   "cell_type": "code",
   "execution_count": 3,
   "metadata": {
    "collapsed": false
   },
   "outputs": [],
   "source": [
    "# parsing data into dataframe\n",
    "df = pd.DataFrame(columns = ['url', 'from', 'to', 'length', 'body'])\n",
    "for i in range(len(d)):\n",
    "    key = d[i].split(\":\",1)[0]\n",
    "    if key == 'URL':\n",
    "        df.set_value(i, 'url', d[i].split(':',1)[1])\n",
    "    elif key == 'From':\n",
    "        df.set_value(i-1, 'from', d[i].split(':',1)[1])\n",
    "    elif key == 'To':\n",
    "        df.set_value(i-2, 'to', d[i].split(':',1)[1])\n",
    "    elif key == 'Date':\n",
    "        pass\n",
    "    elif key == 'Subject':\n",
    "        pass\n",
    "    elif key == 'Content-Length':\n",
    "        df.set_value(i-5, 'length', int(d[i].split(':',1)[1]))\n",
    "    else:\n",
    "        df.set_value(i-6, 'body', d[i])"
   ]
  },
  {
   "cell_type": "code",
   "execution_count": 4,
   "metadata": {
    "collapsed": false
   },
   "outputs": [],
   "source": [
    "# reindexing\n",
    "df['id'] = list(range(len(df)))\n",
    "df.set_index('id', inplace=True)"
   ]
  },
  {
   "cell_type": "code",
   "execution_count": 5,
   "metadata": {
    "collapsed": false
   },
   "outputs": [],
   "source": [
    "# when there are multiple messages from the same person, we have nans as the sender\n",
    "# getting rows that have nans\n",
    "nan = []\n",
    "for i in range(len(df)):\n",
    "    if str(df.url[i]) == \"nan\":\n",
    "        nan.append(i)"
   ]
  },
  {
   "cell_type": "code",
   "execution_count": 6,
   "metadata": {
    "collapsed": false
   },
   "outputs": [],
   "source": [
    "# a function that returns the index of the parent message\n",
    "def getParent(n, list):\n",
    "    parent = n - 1\n",
    "    if parent not in list:\n",
    "        return parent\n",
    "    else:\n",
    "        return getParent(parent, list)"
   ]
  },
  {
   "cell_type": "code",
   "execution_count": 7,
   "metadata": {
    "collapsed": false
   },
   "outputs": [],
   "source": [
    "# updating the body of the parents with the children's messages\n",
    "for i in nan:\n",
    "    parent = getParent(i, nan)\n",
    "    df.set_value(parent, 'body', str(df.body.values[parent]) + \" \" + str(df.body.values[i]))"
   ]
  },
  {
   "cell_type": "code",
   "execution_count": 8,
   "metadata": {
    "collapsed": false
   },
   "outputs": [],
   "source": [
    "# dropping rows with nans, reindexing\n",
    "df = df.dropna()\n",
    "df = df.reset_index(drop=True)"
   ]
  },
  {
   "cell_type": "code",
   "execution_count": 168,
   "metadata": {
    "collapsed": false,
    "scrolled": true
   },
   "outputs": [],
   "source": [
    "df.head()"
   ]
  },
  {
   "cell_type": "markdown",
   "metadata": {},
   "source": [
    "#### My  and Their messages"
   ]
  },
  {
   "cell_type": "code",
   "execution_count": 11,
   "metadata": {
    "collapsed": false
   },
   "outputs": [],
   "source": [
    "#getting indices of rows with my and their messages\n",
    "mine, theirs= [], []\n",
    "for i in range(len(df)):\n",
    "    if df['from'].values[i] == 'your_OKC_username': # in my case there had to be a space before my username\n",
    "        mine.append(i)\n",
    "theirs = [i for i in range(len(df)) if i not in mine]\n",
    "people = df.groupby('from', as_index=True) # the len(people) tells you how many people you talked to"
   ]
  },
  {
   "cell_type": "code",
   "execution_count": 12,
   "metadata": {
    "collapsed": false
   },
   "outputs": [
    {
     "data": {
      "text/plain": [
       "[<matplotlib.lines.Line2D at 0x103f48d68>]"
      ]
     },
     "execution_count": 12,
     "metadata": {},
     "output_type": "execute_result"
    },
    {
     "data": {
      "image/png": "[encoded data removed]",
      "text/plain": [
       "<matplotlib.figure.Figure at 0x1031fab70>"
      ]
     },
     "metadata": {},
     "output_type": "display_data"
    }
   ],
   "source": [
    "message_numbers = people['length'].sum().values\n",
    "plt.plot(np.sort(message_numbers))"
   ]
  },
  {
   "cell_type": "markdown",
   "metadata": {},
   "source": [
    "Message lengths usually have a long tail distribution. Cool!"
   ]
  },
  {
   "cell_type": "markdown",
   "metadata": {},
   "source": [
    "#### Exploring words and vocabularies"
   ]
  },
  {
   "cell_type": "code",
   "execution_count": 13,
   "metadata": {
    "collapsed": false
   },
   "outputs": [],
   "source": [
    "# a function to tokenize, to get rid of Uppercase, to Stem, and to remove stopwords\n",
    "# feel free to replace hungarian with stopwords in other languages that appear in your messages\n",
    "def tokenize(text):\n",
    "    stop = list(set(stopwords.words('english')) | set(list(string.punctuation))  |\n",
    "                set(stopwords.words('hungarian')))\n",
    "    for i in [\"'s\", \"'m\", \"...\", '(', \"n't\", '``', \"'re\", \"'ve\", \"'i\", \"''\", \"'d\",\"'ll\", \n",
    "          'es', 'na']:\n",
    "        stop.append(i)\n",
    "    tokens = nltk.word_tokenize(text)\n",
    "    lower = [w.lower() for w in tokens]\n",
    "    stopped = [w for w in lower if w not in stop]\n",
    "    stemmed = [PorterStemmer().stem(w) for w in stopped]\n",
    "    return stemmed"
   ]
  },
  {
   "cell_type": "code",
   "execution_count": 14,
   "metadata": {
    "collapsed": false
   },
   "outputs": [],
   "source": [
    "# creating Vocabularies\n",
    "myDf = df.iloc[mine]\n",
    "myMsg = \" \".join([myDf['body'].values[i] for i in range(len(myDf))]) #extracting words from df['body']\n",
    "mWords = tokenize(myMsg)\n",
    "mVocab = sorted(set(mWords))\n",
    "\n",
    "thDf = df.iloc[theirs]\n",
    "thMsg = \" \".join([thDf['body'].values[i] for i in range(len(thDf))])\n",
    "tWords = tokenize(thMsg)\n",
    "tVocab = sorted(set(tWords))"
   ]
  },
  {
   "cell_type": "code",
   "execution_count": 15,
   "metadata": {
    "collapsed": false
   },
   "outputs": [
    {
     "data": {
      "text/plain": [
       "(5893, 11612, 27442, 59738)"
      ]
     },
     "execution_count": 15,
     "metadata": {},
     "output_type": "execute_result"
    }
   ],
   "source": [
    "len(mVocab), len(tVocab), len(mWords), len(tWords)"
   ]
  },
  {
   "cell_type": "code",
   "execution_count": 16,
   "metadata": {
    "collapsed": false
   },
   "outputs": [
    {
     "data": {
      "text/plain": [
       "(130.10894941634243, 143.97130876186273)"
      ]
     },
     "execution_count": 16,
     "metadata": {},
     "output_type": "execute_result"
    }
   ],
   "source": [
    "# average length of mine and theirs\n",
    "myDf['length'].values.mean(), thDf['length'].values.mean()"
   ]
  },
  {
   "cell_type": "code",
   "execution_count": 17,
   "metadata": {
    "collapsed": false
   },
   "outputs": [],
   "source": [
    "mF = FreqDist(mWords)\n",
    "tF = FreqDist(tWords)"
   ]
  },
  {
   "cell_type": "code",
   "execution_count": 18,
   "metadata": {
    "collapsed": false
   },
   "outputs": [
    {
     "name": "stdout",
     "output_type": "stream",
     "text": [
      "[('think', 297), ('like', 255), ('realli', 243), ('also', 217), ('day', 173), ('go', 168), ('peopl', 159), ('get', 154), ('know', 153), ('time', 146)]\n",
      "[('like', 787), ('would', 491), ('think', 427), ('know', 420), ('sorri', 397), ('get', 374), ('go', 359), ('hey', 358), ('longer', 349), ('account', 340)]\n"
     ]
    }
   ],
   "source": [
    "print(mF.most_common(10))\n",
    "print(tF.most_common(10))"
   ]
  },
  {
   "cell_type": "code",
   "execution_count": 19,
   "metadata": {
    "collapsed": false
   },
   "outputs": [],
   "source": [
    "# creating lists of messages\n",
    "myList = [tokenize(myDf['body'].values[i]) for i in range(len(myDf))]\n",
    "thList = [tokenize(thDf['body'].values[i]) for i in range(len(thDf))]"
   ]
  },
  {
   "cell_type": "markdown",
   "metadata": {},
   "source": [
    "##  tf-idf"
   ]
  },
  {
   "cell_type": "markdown",
   "metadata": {},
   "source": [
    "#### use"
   ]
  },
  {
   "cell_type": "markdown",
   "metadata": {},
   "source": [
    "- a term-weighting scheme\n",
    "- how important a word is to a document in a corpus\n",
    "- scoring a document's relevance given a query"
   ]
  },
  {
   "cell_type": "markdown",
   "metadata": {},
   "source": [
    "#### term frequency"
   ]
  },
  {
   "cell_type": "code",
   "execution_count": 155,
   "metadata": {
    "collapsed": true
   },
   "outputs": [],
   "source": [
    "'''term frequency is the number of times a word occures in a document.\n",
    "term is a string, doc is a list of strings (tokenized)'''\n",
    "def term_frequency(term, doc):\n",
    "    return doc.count(term)\n",
    "\n",
    "'''Augmented frequency prevents bias towards longer documents.\n",
    "It is the raw frequency divided by the \n",
    "maximum raw frequency of any term in the document\n",
    "(uses double normalization (0.5) as a weighting scheme)\n",
    "term is a string, doc is a list of strings'''\n",
    "def augmented_term_frequency(term, doc):\n",
    "    max_freq = max([term_frequency(token, doc) for token in doc])\n",
    "    return (0.5 + ((0.5 * term_frequency(term, doc))/max_freq))"
   ]
  },
  {
   "cell_type": "markdown",
   "metadata": {},
   "source": [
    "#### inverse document frequency"
   ]
  },
  {
   "cell_type": "code",
   "execution_count": 156,
   "metadata": {
    "collapsed": false
   },
   "outputs": [],
   "source": [
    "'''the logarithmically scaled inverse fraction of the documents that contain the word.\n",
    "docs is a list of lists of strings (tokenized)\n",
    "function returns a dict of tokens and IDFs'''\n",
    "def inverse_document_frequencies(docs):\n",
    "    idf_dict = {}\n",
    "    vocab = set([word for doc in docs for word in doc])\n",
    "    for word in vocab:\n",
    "        contains_word = map(lambda doc: word in doc, docs)\n",
    "        idf_dict[word] = 1 + math.log(len(docs)/(sum(contains_word)))\n",
    "    return idf_dict"
   ]
  },
  {
   "cell_type": "code",
   "execution_count": 158,
   "metadata": {
    "collapsed": false
   },
   "outputs": [],
   "source": [
    "# returns the tf-idf scores for a document in the context of a corpus\n",
    "# takes a doc that is a list of strings and docs that is a list od docs\n",
    "# returns a sorted dict where the key is the tf-idf score of the words in the given doc\n",
    "\n",
    "def tfidf(doc, docs):\n",
    "    idf = inverse_document_frequencies(docs)\n",
    "    tf_idf = {}\n",
    "    for term in idf.keys():\n",
    "        term_freq = term_frequency(term, doc)\n",
    "        tf_idf[term] = (term_freq * idf[term])\n",
    "        tf_idf = dict(filter(lambda x: x[1] > 0, tf_idf.items()))\n",
    "    return sorted(tf_idf.items(), key=operator.itemgetter(1), reverse=True)"
   ]
  },
  {
   "cell_type": "markdown",
   "metadata": {},
   "source": [
    "#### ranking function"
   ]
  },
  {
   "cell_type": "markdown",
   "metadata": {},
   "source": [
    "summing the tf–idf for each query term"
   ]
  },
  {
   "cell_type": "code",
   "execution_count": 159,
   "metadata": {
    "collapsed": false
   },
   "outputs": [],
   "source": [
    "# query is a list of strings\n",
    "def doc_scores(one_word_query, docs):\n",
    "    docs_scored_words = [tfidf(doc, docs) for doc in docs]\n",
    "    doc_sc = {}\n",
    "    for i in range(len(docs_scored_words)):\n",
    "        doc = docs_scored_words[i]\n",
    "        doc_score = 0\n",
    "        for token in doc:\n",
    "            if token[0] in one_word_query:\n",
    "                doc_score += token[1]\n",
    "        doc_sc[i] = doc_score      \n",
    "    return doc_sc\n",
    "    \n",
    "# returns the index of the highest ranking document(s) given a query    \n",
    "def rank(multiple_word_query, docs, n_of_results):\n",
    "    query_words =tokenize(multiple_word_query)\n",
    "    scores = doc_scores(query_words[0], docs)\n",
    "    if len(query_words) > 1:\n",
    "        for word in query_words[1:]:\n",
    "            score_dict = doc_scores(word, docs)\n",
    "            for k,v in score_dict.items():\n",
    "                scores[k] += v\n",
    "    highest_indices = sorted(scores.items(), key=operator.itemgetter(1), reverse=True)[:n_of_results]\n",
    "    return [highest_indices[i][0] for i in range(len(highest_indices)) if highest_indices[i][1] > 0 ]\n",
    "    \n",
    "# returns a list of the highest ranking docs\n",
    "def search(search_string, docs, n_of_results):\n",
    "    indices_to_display = rank(search_string, docs, n_of_results)\n",
    "    return [[docs[i]] for i in indices_to_display]"
   ]
  },
  {
   "cell_type": "markdown",
   "metadata": {},
   "source": [
    "#### quick testing"
   ]
  },
  {
   "cell_type": "code",
   "execution_count": 160,
   "metadata": {
    "collapsed": true
   },
   "outputs": [],
   "source": [
    "test_corpus = [[\"John\", \"play\", \"dull\"], \n",
    "               [\"blue\", \"warm\", \"play\", \"play\"], \n",
    "               [\"playful\", \"play\", \"blue\", \"hard\"]] #assumes tokenized\n",
    "test_query = \"play\"\n",
    "test_search_string = \"play harder\""
   ]
  },
  {
   "cell_type": "code",
   "execution_count": 161,
   "metadata": {
    "collapsed": false
   },
   "outputs": [
    {
     "data": {
      "text/plain": [
       "{0: 1.0, 1: 2.0, 2: 1.0}"
      ]
     },
     "execution_count": 161,
     "metadata": {},
     "output_type": "execute_result"
    }
   ],
   "source": [
    "doc_scores(test_query, test_corpus)"
   ]
  },
  {
   "cell_type": "code",
   "execution_count": 162,
   "metadata": {
    "collapsed": false
   },
   "outputs": [
    {
     "data": {
      "text/plain": [
       "[1, 0, 2]"
      ]
     },
     "execution_count": 162,
     "metadata": {},
     "output_type": "execute_result"
    }
   ],
   "source": [
    "rank(test_query, test_corpus, 3)"
   ]
  },
  {
   "cell_type": "code",
   "execution_count": 163,
   "metadata": {
    "collapsed": false
   },
   "outputs": [
    {
     "data": {
      "text/plain": [
       "[2]"
      ]
     },
     "execution_count": 163,
     "metadata": {},
     "output_type": "execute_result"
    }
   ],
   "source": [
    "rank(test_search_string, test_corpus, 1)"
   ]
  },
  {
   "cell_type": "code",
   "execution_count": 164,
   "metadata": {
    "collapsed": false
   },
   "outputs": [
    {
     "data": {
      "text/plain": [
       "[[['playful', 'play', 'blue', 'hard']], [['blue', 'warm', 'play', 'play']]]"
      ]
     },
     "execution_count": 164,
     "metadata": {},
     "output_type": "execute_result"
    }
   ],
   "source": [
    "search(test_search_string, test_corpus, 2)"
   ]
  },
  {
   "cell_type": "markdown",
   "metadata": {},
   "source": [
    "#### okc search"
   ]
  },
  {
   "cell_type": "code",
   "execution_count": 165,
   "metadata": {
    "collapsed": false
   },
   "outputs": [],
   "source": [
    "# try running this on a slice of myList or thList, to make it faster\n",
    "def okSearch(search_string, corpus, number_of_results):\n",
    "    if corpus == \"out\":\n",
    "        in_result_indices = rank(search_string, myList[:50], number_of_results)\n",
    "        results_to_display = [(myDf['body'].values[i]) for i in in_result_indices]\n",
    "        print('Results for \"{}\" in messsages you sent:\\n\\n'.format(search_string) + \"\\n\\n\".join(results_to_display))\n",
    "    if corpus == \"in\":\n",
    "        in_result_indices = rank(search_string, thList[:50], number_of_results)\n",
    "        results_to_display = [(thDf['body'].values[i]) for i in in_result_indices]\n",
    "        print('Results for \"{}\" in messages you received:\\n\\n'.format(search_string) + \"\\n\\n\".join(results_to_display))"
   ]
  },
  {
   "cell_type": "code",
   "execution_count": 166,
   "metadata": {
    "collapsed": false
   },
   "outputs": [
    {
     "name": "stdout",
     "output_type": "stream",
     "text": [
      "Results for \"feel\" in messsages you sent:\n",
      "\n",
      "I feel a really big difference might be depth :) I never actually read anything in the topic, I just find myself thinking about it a lot :)\n",
      "\n",
      "though actually I had an 8 hour walk with a friend yesterday and then another 11walk with another friend today, so I feel I've been all over the place\n"
     ]
    }
   ],
   "source": [
    "okSearch(\"feel\", \"out\", 3)"
   ]
  },
  {
   "cell_type": "code",
   "execution_count": 167,
   "metadata": {
    "collapsed": false
   },
   "outputs": [
    {
     "name": "stdout",
     "output_type": "stream",
     "text": [
      "Results for \"feel\" in messages you received:\n",
      "\n",
      "I feel like so much of what you wrote reminisced with me!\n",
      "\n",
      "I’d still love to hear what you have to say though! Something that caught my attention from your profile is that you said “and how I feel about it”. In philosophy we analyse lots of arguments in favour or against things like transhumanism or free will, which is quite important, but it’s also very distant. I don’t think we give enough thought to what those things mean to our individual lives! Think of it like this: It’s one thing to discuss the difficulty of telling whether or not certain advanced AI has a consciousness, it’s another very different thing to think about what is like to be confronted with an AI like the one in Ex Machina. :O\n",
      "\n",
      "But I'm game. Let me know when you're feeling free and rowdy\n"
     ]
    }
   ],
   "source": [
    "okSearch(\"feel\", \"in\", 3)"
   ]
  }
 ],
 "metadata": {
  "kernelspec": {
   "display_name": "Python 3",
   "language": "python",
   "name": "python3"
  },
  "language_info": {
   "codemirror_mode": {
    "name": "ipython",
    "version": 3
   },
   "file_extension": ".py",
   "mimetype": "text/x-python",
   "name": "python",
   "nbconvert_exporter": "python",
   "pygments_lexer": "ipython3",
   "version": "3.4.3"
  }
 },
 "nbformat": 4,
 "nbformat_minor": 1
}
